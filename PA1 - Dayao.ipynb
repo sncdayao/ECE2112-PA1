{
 "cells": [
  {
   "cell_type": "markdown",
   "id": "be70e7ad-d61b-4ead-a1ee-343882622cb6",
   "metadata": {},
   "source": [
    "Sophia Nicole Dayao 2ECE-C\n",
    "<br> **ECE2112 PA1: Experiment 1**"
   ]
  },
  {
   "cell_type": "markdown",
   "id": "a408fd89-7b3f-4d06-9454-0e42f3eef10a",
   "metadata": {},
   "source": [
    "**ALPHABET SOUP PROBLEM**"
   ]
  },
  {
   "cell_type": "code",
   "execution_count": 69,
   "id": "2054f1a4-8f0e-47cf-a5ef-0d01b5c35365",
   "metadata": {},
   "outputs": [],
   "source": [
    "#define a function to store the string\n",
    "def alphabet_soup (string):\n",
    "    #used \"sorted\" to sort the characters in the string in alphabetical order and \"join\" to combine them into one string\n",
    "    return ''.join (sorted(string))"
   ]
  },
  {
   "cell_type": "code",
   "execution_count": 71,
   "id": "fef83851-d06e-45ac-8e68-ca28b340cb3b",
   "metadata": {},
   "outputs": [
    {
     "name": "stdout",
     "output_type": "stream",
     "text": [
      "aacddenv\n"
     ]
    }
   ],
   "source": [
    "#example 1\n",
    "string = \"advanced\"\n",
    "print (alphabet_soup(string))"
   ]
  },
  {
   "cell_type": "code",
   "execution_count": 73,
   "id": "020b2fa7-df3f-44d0-ba0c-654e32140d23",
   "metadata": {},
   "outputs": [
    {
     "name": "stdout",
     "output_type": "stream",
     "text": [
      "cemoprtu\n"
     ]
    }
   ],
   "source": [
    "#example 2\n",
    "string = \"computer\"\n",
    "print (alphabet_soup(string))"
   ]
  },
  {
   "cell_type": "code",
   "execution_count": 137,
   "id": "79299694-1a95-4a6b-88b5-ac23e35db013",
   "metadata": {},
   "outputs": [
    {
     "name": "stdout",
     "output_type": "stream",
     "text": [
      "aggimmnoprr\n"
     ]
    }
   ],
   "source": [
    "#example 3\n",
    "string = \"programming\"\n",
    "print (alphabet_soup(string))"
   ]
  },
  {
   "cell_type": "code",
   "execution_count": 165,
   "id": "ea3e4c7b-a5a2-4476-83e7-5a8f80f047b4",
   "metadata": {},
   "outputs": [
    {
     "name": "stdout",
     "output_type": "stream",
     "text": [
      "ahiops\n"
     ]
    }
   ],
   "source": [
    "#example 4\n",
    "string = \"sophia\"\n",
    "print (alphabet_soup(string))"
   ]
  },
  {
   "cell_type": "code",
   "execution_count": 145,
   "id": "bb30cd27-11e0-4f01-82b7-494027a0a926",
   "metadata": {},
   "outputs": [
    {
     "name": "stdout",
     "output_type": "stream",
     "text": [
      "hnopty\n"
     ]
    }
   ],
   "source": [
    "#example 5\n",
    "string = \"python\"\n",
    "print (alphabet_soup(string))"
   ]
  },
  {
   "cell_type": "markdown",
   "id": "c98bbfa1-0d19-40a3-a14a-3e44c7759dda",
   "metadata": {},
   "source": [
    "**EMOTICON PROBLEM**"
   ]
  },
  {
   "cell_type": "code",
   "execution_count": 192,
   "id": "b55e794f-57b1-4005-8d86-5c6a86b323f3",
   "metadata": {},
   "outputs": [],
   "source": [
    "#define a function to store keywords with their corresponding emoticons\n",
    "def emoticon (sentence):\n",
    "    #use \"replace\" to swap keywords with emoticons\n",
    "    sentence = sentence.replace (\"smile\",\":)\")\n",
    "    sentence = sentence.replace (\"grin\",\":D\")\n",
    "    sentence = sentence.replace (\"sad\",\":((\")\n",
    "    sentence = sentence.replace (\"mad\",\">:(\")\n",
    "    return sentence"
   ]
  },
  {
   "cell_type": "code",
   "execution_count": 194,
   "id": "99d09b13-c701-47dd-b6ee-2858dde6695f",
   "metadata": {},
   "outputs": [
    {
     "name": "stdout",
     "output_type": "stream",
     "text": [
      "I like to :).\n"
     ]
    }
   ],
   "source": [
    "#example 1\n",
    "print (emoticon(\"I like to smile.\"))"
   ]
  },
  {
   "cell_type": "code",
   "execution_count": 196,
   "id": "41bfc9b1-8ddb-4fe3-aced-944d53d481a8",
   "metadata": {},
   "outputs": [
    {
     "name": "stdout",
     "output_type": "stream",
     "text": [
      "Sometimes I get :((.\n"
     ]
    }
   ],
   "source": [
    "#example 2\n",
    "print (emoticon(\"Sometimes I get sad.\"))"
   ]
  },
  {
   "cell_type": "code",
   "execution_count": 198,
   "id": "45a7bbc8-8905-4d2a-82a6-f490a7351de1",
   "metadata": {},
   "outputs": [
    {
     "name": "stdout",
     "output_type": "stream",
     "text": [
      "I can't help but be >:(.\n"
     ]
    }
   ],
   "source": [
    "#example 3\n",
    "print (emoticon(\"I can't help but be mad.\"))"
   ]
  },
  {
   "cell_type": "code",
   "execution_count": 200,
   "id": "2fa4f7bb-0f47-4d46-95fe-5bb826cfce68",
   "metadata": {},
   "outputs": [
    {
     "name": "stdout",
     "output_type": "stream",
     "text": [
      "These things make me :D.\n"
     ]
    }
   ],
   "source": [
    "#example 4\n",
    "print (emoticon(\"These things make me grin.\"))"
   ]
  },
  {
   "cell_type": "code",
   "execution_count": 202,
   "id": "4a80a941-f6d0-4e49-9903-1cf2f770e753",
   "metadata": {},
   "outputs": [
    {
     "name": "stdout",
     "output_type": "stream",
     "text": [
      "There are some people who are always >:( and :(( at the same time.\n"
     ]
    }
   ],
   "source": [
    "#example 5\n",
    "print (emoticon(\"There are some people who are always mad and sad at the same time.\"))"
   ]
  },
  {
   "cell_type": "markdown",
   "id": "3ca87dd6-9e96-4e5a-9df7-9a82d423b2d6",
   "metadata": {},
   "source": [
    "**UNPACKING LIST PROBLEM**"
   ]
  },
  {
   "cell_type": "code",
   "execution_count": 16,
   "id": "754d6455-f187-45f6-84e3-18c26e0127dc",
   "metadata": {},
   "outputs": [],
   "source": [
    "#define a function to unpack the list\n",
    "def unpack(writeyourcodehere):\n",
    "    #assign the first, middle, and last variables in the list\n",
    "    first = writeyourcodehere [0]\n",
    "    middle = writeyourcodehere [1:-1]\n",
    "    last = writeyourcodehere [-1]\n",
    "\n",
    "    #print the first, middle, and last variables\n",
    "    print (f\"first: {first}\")\n",
    "    print (f\"middle: {middle}\")\n",
    "    print (f\"last: {last}\")"
   ]
  },
  {
   "cell_type": "code",
   "execution_count": 18,
   "id": "00ea5b9b-7dc2-418d-b3d0-0914815eaaab",
   "metadata": {},
   "outputs": [
    {
     "name": "stdout",
     "output_type": "stream",
     "text": [
      "first: 1\n",
      "middle: [2, 3, 4, 5, 6, 7, 8, 9]\n",
      "last: 10\n"
     ]
    }
   ],
   "source": [
    "#example 1\n",
    "writeyourcodehere = [1, 2, 3, 4, 5, 6, 7, 8, 9, 10]\n",
    "unpack(writeyourcodehere)"
   ]
  },
  {
   "cell_type": "code",
   "execution_count": 20,
   "id": "c9256bc3-9512-4014-bb42-8a440a69adaf",
   "metadata": {},
   "outputs": [
    {
     "name": "stdout",
     "output_type": "stream",
     "text": [
      "first: 2\n",
      "middle: [4, 6, 8]\n",
      "last: 10\n"
     ]
    }
   ],
   "source": [
    "#example 2\n",
    "writeyourcodehere = [2, 4, 6, 8, 10]\n",
    "unpack(writeyourcodehere)"
   ]
  },
  {
   "cell_type": "code",
   "execution_count": 22,
   "id": "74dbbc86-0598-439c-b434-7c4c97979141",
   "metadata": {},
   "outputs": [
    {
     "name": "stdout",
     "output_type": "stream",
     "text": [
      "first: 1\n",
      "middle: [3, 5, 7]\n",
      "last: 9\n"
     ]
    }
   ],
   "source": [
    "#example 3\n",
    "writeyourcodehere = [1, 3, 5, 7, 9]\n",
    "unpack(writeyourcodehere)"
   ]
  },
  {
   "cell_type": "code",
   "execution_count": 24,
   "id": "b83d6808-082b-4706-9968-e2b1ac78b06b",
   "metadata": {},
   "outputs": [
    {
     "name": "stdout",
     "output_type": "stream",
     "text": [
      "first: 12\n",
      "middle: [29]\n",
      "last: 2004\n"
     ]
    }
   ],
   "source": [
    "#example 4\n",
    "writeyourcodehere = [12, 29, 2004]\n",
    "unpack(writeyourcodehere)"
   ]
  },
  {
   "cell_type": "code",
   "execution_count": 26,
   "id": "40c001ae-db66-4852-976a-761ac465d43c",
   "metadata": {},
   "outputs": [
    {
     "name": "stdout",
     "output_type": "stream",
     "text": [
      "first: 8\n",
      "middle: [27]\n",
      "last: 2024\n"
     ]
    }
   ],
   "source": [
    "#example 5\n",
    "writeyourcodehere = [8, 27, 2024]\n",
    "unpack(writeyourcodehere)"
   ]
  }
 ],
 "metadata": {
  "kernelspec": {
   "display_name": "Python 3 (ipykernel)",
   "language": "python",
   "name": "python3"
  },
  "language_info": {
   "codemirror_mode": {
    "name": "ipython",
    "version": 3
   },
   "file_extension": ".py",
   "mimetype": "text/x-python",
   "name": "python",
   "nbconvert_exporter": "python",
   "pygments_lexer": "ipython3",
   "version": "3.12.4"
  }
 },
 "nbformat": 4,
 "nbformat_minor": 5
}
